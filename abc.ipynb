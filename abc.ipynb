{
 "cells": [
  {
   "cell_type": "code",
   "execution_count": 1,
   "id": "e0a2b43b",
   "metadata": {},
   "outputs": [
    {
     "name": "stdout",
     "output_type": "stream",
     "text": [
      "WARNING:tensorflow:From C:\\Users\\92316\\anaconda3\\Lib\\site-packages\\keras\\src\\losses.py:2976: The name tf.losses.sparse_softmax_cross_entropy is deprecated. Please use tf.compat.v1.losses.sparse_softmax_cross_entropy instead.\n",
      "\n",
      "Found 6862 images belonging to 11 classes.\n",
      "Found 6862 images belonging to 11 classes.\n"
     ]
    }
   ],
   "source": [
    "from tensorflow.keras.preprocessing.image import ImageDataGenerator\n",
    "\n",
    "# Set the path to the main dataset folder\n",
    "dataset_folder = '../dataset'\n",
    "\n",
    "# Create an ImageDataGenerator for training data with augmentation\n",
    "train_datagen = ImageDataGenerator(\n",
    "    rescale=1./255,\n",
    "    rotation_range=20,\n",
    "    width_shift_range=0.2,\n",
    "    height_shift_range=0.2,\n",
    "    shear_range=0.2,\n",
    "    zoom_range=0.2,\n",
    "    horizontal_flip=True,\n",
    "    fill_mode='nearest'\n",
    ")\n",
    "\n",
    "# Specify the target size of your images\n",
    "target_size = (150, 150)\n",
    "\n",
    "# Create a flow_from_directory generator for training data\n",
    "train_generator = train_datagen.flow_from_directory(\n",
    "    dataset_folder,\n",
    "    target_size=target_size,\n",
    "    batch_size=32,\n",
    "    class_mode='categorical',  # Use 'categorical' for multi-class classification\n",
    "    shuffle=True  # Set to True for training data\n",
    ")\n",
    "\n",
    "# You can also create a generator for validation/test data without augmentation\n",
    "val_datagen = ImageDataGenerator(rescale=1./255)\n",
    "\n",
    "# Create a flow_from_directory generator for validation/test data\n",
    "val_generator = val_datagen.flow_from_directory(\n",
    "    dataset_folder,\n",
    "    target_size=target_size,\n",
    "    batch_size=32,\n",
    "    class_mode='categorical',  # Use 'categorical' for multi-class classification\n",
    "    shuffle=False  # Set to False for validation/test data\n",
    ")\n",
    "\n"
   ]
  },
  {
   "cell_type": "code",
   "execution_count": 9,
   "id": "38a61818",
   "metadata": {},
   "outputs": [
    {
     "name": "stdout",
     "output_type": "stream",
     "text": [
      "Epoch 1/10\n",
      "214/214 [==============================] - 431s 2s/step - loss: 1.5256 - accuracy: 0.4987 - val_loss: 1.0692 - val_accuracy: 0.6387\n",
      "Epoch 2/10\n",
      "214/214 [==============================] - 275s 1s/step - loss: 1.1397 - accuracy: 0.6127 - val_loss: 1.0333 - val_accuracy: 0.6519\n",
      "Epoch 3/10\n",
      "214/214 [==============================] - 268s 1s/step - loss: 1.0696 - accuracy: 0.6388 - val_loss: 1.0744 - val_accuracy: 0.6390\n",
      "Epoch 4/10\n",
      "214/214 [==============================] - 289s 1s/step - loss: 1.0246 - accuracy: 0.6514 - val_loss: 0.9470 - val_accuracy: 0.6838\n",
      "Epoch 5/10\n",
      "214/214 [==============================] - 289s 1s/step - loss: 0.9772 - accuracy: 0.6646 - val_loss: 0.8557 - val_accuracy: 0.7101\n",
      "Epoch 6/10\n",
      "214/214 [==============================] - 303s 1s/step - loss: 0.9574 - accuracy: 0.6697 - val_loss: 0.8513 - val_accuracy: 0.7157\n",
      "Epoch 7/10\n",
      "214/214 [==============================] - 283s 1s/step - loss: 0.9333 - accuracy: 0.6842 - val_loss: 0.8970 - val_accuracy: 0.6947\n",
      "Epoch 8/10\n",
      "214/214 [==============================] - 286s 1s/step - loss: 0.9093 - accuracy: 0.6878 - val_loss: 0.8017 - val_accuracy: 0.7252\n",
      "Epoch 9/10\n",
      "214/214 [==============================] - 278s 1s/step - loss: 0.8921 - accuracy: 0.7019 - val_loss: 0.7410 - val_accuracy: 0.7450\n",
      "Epoch 10/10\n",
      "214/214 [==============================] - 289s 1s/step - loss: 0.8755 - accuracy: 0.6987 - val_loss: 0.8324 - val_accuracy: 0.7144\n"
     ]
    },
    {
     "name": "stderr",
     "output_type": "stream",
     "text": [
      "C:\\Users\\92316\\anaconda3\\Lib\\site-packages\\keras\\src\\engine\\training.py:3103: UserWarning: You are saving your model as an HDF5 file via `model.save()`. This file format is considered legacy. We recommend using instead the native Keras format, e.g. `model.save('my_model.keras')`.\n",
      "  saving_api.save_model(\n"
     ]
    },
    {
     "ename": "NameError",
     "evalue": "name 'test_generator' is not defined",
     "output_type": "error",
     "traceback": [
      "\u001b[1;31m---------------------------------------------------------------------------\u001b[0m",
      "\u001b[1;31mNameError\u001b[0m                                 Traceback (most recent call last)",
      "Cell \u001b[1;32mIn[9], line 38\u001b[0m\n\u001b[0;32m     27\u001b[0m model\u001b[38;5;241m.\u001b[39mfit(\n\u001b[0;32m     28\u001b[0m     train_generator,\n\u001b[0;32m     29\u001b[0m     steps_per_epoch\u001b[38;5;241m=\u001b[39mtrain_generator\u001b[38;5;241m.\u001b[39msamples \u001b[38;5;241m/\u001b[39m\u001b[38;5;241m/\u001b[39m \u001b[38;5;241m32\u001b[39m,\n\u001b[1;32m   (...)\u001b[0m\n\u001b[0;32m     32\u001b[0m     validation_steps\u001b[38;5;241m=\u001b[39mval_generator\u001b[38;5;241m.\u001b[39msamples \u001b[38;5;241m/\u001b[39m\u001b[38;5;241m/\u001b[39m \u001b[38;5;241m32\u001b[39m\n\u001b[0;32m     33\u001b[0m )\n\u001b[0;32m     35\u001b[0m model\u001b[38;5;241m.\u001b[39msave(\u001b[38;5;124m\"\u001b[39m\u001b[38;5;124mweather_classifier_model.h5\u001b[39m\u001b[38;5;124m\"\u001b[39m)\n\u001b[1;32m---> 38\u001b[0m test_loss, test_acc \u001b[38;5;241m=\u001b[39m model\u001b[38;5;241m.\u001b[39mevaluate(test_generator, steps\u001b[38;5;241m=\u001b[39mtest_generator\u001b[38;5;241m.\u001b[39msamples \u001b[38;5;241m/\u001b[39m\u001b[38;5;241m/\u001b[39m \u001b[38;5;241m32\u001b[39m)\n\u001b[0;32m     39\u001b[0m \u001b[38;5;28mprint\u001b[39m(\u001b[38;5;124mf\u001b[39m\u001b[38;5;124m'\u001b[39m\u001b[38;5;124mTest Accuracy: \u001b[39m\u001b[38;5;132;01m{\u001b[39;00mtest_acc\u001b[38;5;132;01m}\u001b[39;00m\u001b[38;5;124m'\u001b[39m)\n",
      "\u001b[1;31mNameError\u001b[0m: name 'test_generator' is not defined"
     ]
    }
   ],
   "source": [
    "import os\n",
    "import numpy as np\n",
    "from keras.preprocessing import image\n",
    "from sklearn.model_selection import train_test_split\n",
    "from sklearn.preprocessing import LabelEncoder\n",
    "from keras.utils import to_categorical\n",
    "from keras.models import Sequential\n",
    "from keras.layers import Conv2D, MaxPooling2D, Flatten, Dense\n",
    "\n",
    "model = Sequential([\n",
    "    Conv2D(32, (3, 3), activation='relu', input_shape=(150, 150, 3)),\n",
    "    MaxPooling2D((2, 2)),\n",
    "    Conv2D(64, (3, 3), activation='relu'),\n",
    "    MaxPooling2D((2, 2)),\n",
    "    Flatten(),\n",
    "    Dense(128, activation='relu'),\n",
    "    Dense(11, activation='softmax')\n",
    "])\n",
    "\n",
    "\n",
    "model.compile(\n",
    "    optimizer='adam',\n",
    "    loss='categorical_crossentropy',\n",
    "    metrics=['accuracy']\n",
    ")\n",
    "\n",
    "model.fit(\n",
    "    train_generator,\n",
    "    steps_per_epoch=train_generator.samples // 32,\n",
    "    epochs=10,\n",
    "    validation_data=val_generator,\n",
    "    validation_steps=val_generator.samples // 32\n",
    ")\n",
    "\n",
    "model.save(\"weather_classifier_model.h5\")\n",
    "\n",
    "\n",
    "test_loss, test_acc = model.evaluate(val_generator, steps=test_generator.samples // 32)\n",
    "print(f'Test Accuracy: {test_acc}')\n"
   ]
  },
  {
   "cell_type": "code",
   "execution_count": 11,
   "id": "30241727",
   "metadata": {},
   "outputs": [
    {
     "name": "stdout",
     "output_type": "stream",
     "text": [
      "214/214 [==============================] - 71s 331ms/step - loss: 0.8324 - accuracy: 0.7144\n",
      "Test Accuracy: 0.7143691778182983\n"
     ]
    }
   ],
   "source": [
    "test_loss, test_acc = model.evaluate(val_generator, steps=val_generator.samples // 32)\n",
    "print(f'Test Accuracy: {test_acc}')"
   ]
  },
  {
   "cell_type": "code",
   "execution_count": null,
   "id": "9dedced0",
   "metadata": {},
   "outputs": [],
   "source": []
  }
 ],
 "metadata": {
  "kernelspec": {
   "display_name": "Python 3 (ipykernel)",
   "language": "python",
   "name": "python3"
  },
  "language_info": {
   "codemirror_mode": {
    "name": "ipython",
    "version": 3
   },
   "file_extension": ".py",
   "mimetype": "text/x-python",
   "name": "python",
   "nbconvert_exporter": "python",
   "pygments_lexer": "ipython3",
   "version": "3.11.5"
  }
 },
 "nbformat": 4,
 "nbformat_minor": 5
}
